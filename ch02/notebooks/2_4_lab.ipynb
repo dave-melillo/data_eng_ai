{
 "cells": [
  {
   "cell_type": "markdown",
   "id": "4215e129-dffc-4386-b67d-c5258759f578",
   "metadata": {},
   "source": [
    "# Chapter 2 Lab"
   ]
  },
  {
   "cell_type": "markdown",
   "id": "09090927-08fd-415b-bf0a-8e38c93cd68c",
   "metadata": {},
   "source": [
    "#### note: run the SQL lab responses in pgAdmin after setting up the Pagila database locally"
   ]
  },
  {
   "cell_type": "markdown",
   "id": "57fbf9ed-4308-461b-a6f1-875c7a3e1de1",
   "metadata": {
    "tags": []
   },
   "source": [
    "## SQL "
   ]
  },
  {
   "cell_type": "markdown",
   "id": "bd1aad79-070a-4885-9120-a43a102f4a57",
   "metadata": {},
   "source": [
    "1. Prompt ChatGPT to: \"Using the Pagila data set, write a SQL query to get the number of copies of each film title that exist in the inventory. Use a subquery instead of a join. Return title and number of copies.\""
   ]
  },
  {
   "cell_type": "markdown",
   "id": "15618047-38c7-4895-89b6-2fd056cd7959",
   "metadata": {
    "tags": []
   },
   "source": [
    "```\n",
    "SELECT title,\n",
    "       (SELECT COUNT(*) FROM inventory WHERE inventory.film_id = film.film_id) AS \"Number of Copies\"\n",
    "FROM film;\n",
    "```"
   ]
  },
  {
   "cell_type": "markdown",
   "id": "6eea5fe9-e0fb-4cce-91cc-e5e7ea2773a6",
   "metadata": {},
   "source": [
    "2. Prompt ChatGPT to: \"Using the query from the previous question, create a view named title_count.\""
   ]
  },
  {
   "cell_type": "markdown",
   "id": "e250ba25-d183-40c7-a4e9-9203746c21f8",
   "metadata": {},
   "source": [
    "```\n",
    "CREATE VIEW title_count AS\n",
    "SELECT title,\n",
    "       (SELECT COUNT(*) FROM inventory WHERE inventory.film_id = film.film_id) AS \"Number of Copies\"\n",
    "FROM film;\n",
    "```"
   ]
  },
  {
   "cell_type": "markdown",
   "id": "fdf8216d-0625-4c5e-aa39-4b91d7b9d761",
   "metadata": {},
   "source": [
    "3.  Prompt ChatGPT to: \"Write a query against the title_count view to find all the titles that have exactly 7 copies.\""
   ]
  },
  {
   "cell_type": "markdown",
   "id": "d23d6039-6cd9-4084-8654-41be9b6d8731",
   "metadata": {},
   "source": [
    "```\n",
    "SELECT title, \"Number of Copies\"\n",
    "FROM title_count\n",
    "WHERE \"Number of Copies\" = 7;\n",
    "```"
   ]
  },
  {
   "cell_type": "markdown",
   "id": "e3aae47e-d4ff-4f02-9782-4ff35af68f5a",
   "metadata": {},
   "source": [
    "#### note: for the python exercises use the JSON object below"
   ]
  },
  {
   "cell_type": "markdown",
   "id": "91b750d9-01bb-4be0-87cd-d3d62fe6fa24",
   "metadata": {},
   "source": [
    "```\n",
    "orders = [\n",
    "  {\"order_id\": 1, \"status\": \"completed\", \"products\": [\n",
    "    {\"description\": \"Nike Air Max - Red\", \"price\": 120.0, \"quantity\": 1},\n",
    "    {\"description\": \"Adidas Ultraboost - Black\", \"price\": 150.0, \"quantity\": 2}\n",
    "  ]},\n",
    "  {\"order_id\": 2, \"status\": \"pending\", \"products\": [\n",
    "    {\"description\": \"Puma Speedcat - White\", \"price\": 90.0, \"quantity\": 3}\n",
    "  ]},\n",
    "  {\"order_id\": 3, \"status\": \"canceled\", \"products\": [\n",
    "    {\"description\": \"Reebok Classic - Blue\", \"price\": 100.0, \"quantity\": 1}\n",
    "  ]},\n",
    "  {\"order_id\": 4, \"status\": \"completed\", \"products\": [\n",
    "    {\"description\": \"New Balance 574 - Green\", \"price\": 110.0, \"quantity\": 2}\n",
    "  ]},\n",
    "  {\"order_id\": 5, \"status\": \"pending\", \"products\": [\n",
    "    {\"description\": \"Asics Gel-Kayano - Orange\", \"price\": 130.0, \"quantity\": 1},\n",
    "    {\"description\": \"Saucony Jazz - Blue\", \"price\": 95.0, \"quantity\": 2}\n",
    "  ]}\n",
    "]\n",
    "```"
   ]
  },
  {
   "cell_type": "markdown",
   "id": "aac537c4-e160-4d51-ae03-9fbd69858f9e",
   "metadata": {},
   "source": [
    "## Python"
   ]
  },
  {
   "cell_type": "markdown",
   "id": "8ce67637-1953-4128-9b95-71adadc9be8c",
   "metadata": {},
   "source": [
    "4. Prompt ChatGPT to: \" Using [insert JSON object] write Python code to transform the nested JSON object of orders into a pandas DataFrame. Each row should represent a product. Extract 'product_name', 'brand', and 'color' from the 'description' field using regex, and calculate price_with_tax (20% for 'completed', 10% for 'pending'). Exclude 'canceled' orders.\" This is similar to the Try It Now exercise earlier, but with an extended data set. "
   ]
  },
  {
   "cell_type": "code",
   "execution_count": 3,
   "id": "efb9e953-13a9-43d0-8cc8-3f1d8628c450",
   "metadata": {
    "tags": []
   },
   "outputs": [
    {
     "name": "stdout",
     "output_type": "stream",
     "text": [
      "   order_id     status    brand product_name   color  price  quantity  \\\n",
      "0         1  completed     Nike      Air Max     Red  120.0         1   \n",
      "1         1  completed   Adidas   Ultraboost   Black  150.0         2   \n",
      "2         2    pending     Puma     Speedcat   White   90.0         3   \n",
      "3         4  completed      New  Balance 574   Green  110.0         2   \n",
      "4         5    pending    Asics   Gel-Kayano  Orange  130.0         1   \n",
      "5         5    pending  Saucony         Jazz    Blue   95.0         2   \n",
      "\n",
      "   price_with_tax  \n",
      "0           144.0  \n",
      "1           180.0  \n",
      "2            99.0  \n",
      "3           132.0  \n",
      "4           143.0  \n",
      "5           104.5  \n"
     ]
    }
   ],
   "source": [
    "import pandas as pd\n",
    "import re\n",
    "orders = [{\"order_id\": 1, \"status\": \"completed\", \"products\": [{\"description\": \"Nike Air Max - Red\", \"price\": 120.0, \"quantity\": 1}, {\"description\": \"Adidas Ultraboost - Black\", \"price\": 150.0, \"quantity\": 2}]}, {\"order_id\": 2, \"status\": \"pending\", \"products\": [{\"description\": \"Puma Speedcat - White\", \"price\": 90.0, \"quantity\": 3}]}, {\"order_id\": 3, \"status\": \"canceled\", \"products\": [{\"description\": \"Reebok Classic - Blue\", \"price\": 100.0, \"quantity\": 1}]}, {\"order_id\": 4, \"status\": \"completed\", \"products\": [{\"description\": \"New Balance 574 - Green\", \"price\": 110.0, \"quantity\": 2}]}, {\"order_id\": 5, \"status\": \"pending\", \"products\": [{\"description\": \"Asics Gel-Kayano - Orange\", \"price\": 130.0, \"quantity\": 1}, {\"description\": \"Saucony Jazz - Blue\", \"price\": 95.0, \"quantity\": 2}]}]\n",
    "rows = []\n",
    "for order in orders:\n",
    "    if order['status'] != 'canceled':\n",
    "        for product in order['products']:\n",
    "            match = re.match(r'(\\w+)\\s(.+?)\\s-\\s(\\w+)', product['description'])\n",
    "            brand, name, color = match.groups() if match else (None, None, None)\n",
    "            tax = 1.2 if order['status'] == 'completed' else 1.1\n",
    "            rows.append({\n",
    "                'order_id': order['order_id'],\n",
    "                'status': order['status'],\n",
    "                'brand': brand,\n",
    "                'product_name': name,\n",
    "                'color': color,\n",
    "                'price': product['price'],\n",
    "                'quantity': product['quantity'],\n",
    "                'price_with_tax': round(product['price'] * tax, 2)\n",
    "            })\n",
    "product_df = pd.DataFrame(rows)\n",
    "print(product_df)\n"
   ]
  },
  {
   "cell_type": "markdown",
   "id": "dbd9a978-636f-4b20-a744-e021af6d9c24",
   "metadata": {},
   "source": [
    "5. Prompt ChatGPT to: \"Write Python code to calculate the total revenue per order from the same JSON. Use the tax-adjusted price. Return a DataFrame with columns: order_id, status, total_revenue.\""
   ]
  },
  {
   "cell_type": "code",
   "execution_count": 4,
   "id": "91ca8c3d-8eb2-4cb4-a4cc-b3296883f8b3",
   "metadata": {
    "tags": []
   },
   "outputs": [
    {
     "name": "stdout",
     "output_type": "stream",
     "text": [
      "   order_id     status  total_revenue\n",
      "0         1  completed          504.0\n",
      "1         2    pending          297.0\n",
      "2         4  completed          264.0\n",
      "3         5    pending          352.0\n"
     ]
    }
   ],
   "source": [
    "revenue = product_df.groupby(['order_id', 'status']).apply(\n",
    "    lambda x: (x['price_with_tax'] * x['quantity']).sum()\n",
    ").reset_index(name='total_revenue')\n",
    "\n",
    "print(revenue)"
   ]
  },
  {
   "cell_type": "markdown",
   "id": "be098582-3b6f-4575-810e-b2d5da083941",
   "metadata": {},
   "source": [
    "6. Prompt ChatGPT to: \"Write Python code to identify the brand with the highest total revenue across all non-canceled orders. Display brand and revenue.\"\n"
   ]
  },
  {
   "cell_type": "code",
   "execution_count": 5,
   "id": "41b4d0ca-2e4e-427b-b62c-b6353f7bb900",
   "metadata": {
    "tags": []
   },
   "outputs": [
    {
     "name": "stdout",
     "output_type": "stream",
     "text": [
      "    brand  revenue\n",
      "0  Adidas    360.0\n"
     ]
    }
   ],
   "source": [
    "brand_revenue = product_df.groupby('brand').apply(\n",
    "    lambda x: (x['price_with_tax'] * x['quantity']).sum()\n",
    ").reset_index(name='revenue')\n",
    "\n",
    "top_brand = brand_revenue.sort_values(by='revenue', ascending=False).head(1)\n",
    "print(top_brand)\n"
   ]
  }
 ],
 "metadata": {
  "kernelspec": {
   "display_name": "Python 3 (ipykernel)",
   "language": "python",
   "name": "python3"
  },
  "language_info": {
   "codemirror_mode": {
    "name": "ipython",
    "version": 3
   },
   "file_extension": ".py",
   "mimetype": "text/x-python",
   "name": "python",
   "nbconvert_exporter": "python",
   "pygments_lexer": "ipython3",
   "version": "3.11.5"
  }
 },
 "nbformat": 4,
 "nbformat_minor": 5
}
