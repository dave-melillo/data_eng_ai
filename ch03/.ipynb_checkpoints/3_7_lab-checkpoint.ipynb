{
 "cells": [
  {
   "cell_type": "markdown",
   "id": "4215e129-dffc-4386-b67d-c5258759f578",
   "metadata": {},
   "source": [
    "# Chapter 3 Lab"
   ]
  },
  {
   "cell_type": "markdown",
   "id": "09090927-08fd-415b-bf0a-8e38c93cd68c",
   "metadata": {},
   "source": [
    "#### note: run the SQL lab responses in pgAdmin after setting up the Pagila database locally"
   ]
  },
  {
   "cell_type": "markdown",
   "id": "57fbf9ed-4308-461b-a6f1-875c7a3e1de1",
   "metadata": {
    "tags": []
   },
   "source": [
    "## SQL "
   ]
  },
  {
   "cell_type": "markdown",
   "id": "bd1aad79-070a-4885-9120-a43a102f4a57",
   "metadata": {},
   "source": [
    "1. Prompting Technique: Chain-of-Thought Prompting\n",
    "Write a query to return the average number of rentals per customer, excluding customers who have never rented anything. Ask the AI to think through the problem step by step before producing the SQL."
   ]
  },
  {
   "cell_type": "markdown",
   "id": "15618047-38c7-4895-89b6-2fd056cd7959",
   "metadata": {
    "tags": []
   },
   "source": [
    "Prompt:\n",
    " “Using the Pagila dataset, calculate the average number of rentals per customer, but exclude customers who have never rented anything. Think through the problem step by step before writing the SQL.”\n",
    "\n",
    "Response:\n",
    "“To solve this, we need to count how many rentals each customer has made. We'll start with the customer table and join it to the rental table using customer_id. This will automatically exclude customers who have never rented anything, because they won’t appear in the rental table. After grouping by customer_id, we can count the number of rentals per customer, and then take the average of those counts.\n",
    "\n",
    "```\n",
    "SELECT AVG(rental_count) AS avg_rentals_per_customer\n",
    "FROM (\n",
    "  SELECT c.customer_id, COUNT(r.rental_id) AS rental_count\n",
    "  FROM customer c\n",
    "  JOIN rental r ON c.customer_id = r.customer_id\n",
    "  GROUP BY c.customer_id\n",
    ") AS sub;”\n",
    "```"
   ]
  },
  {
   "cell_type": "markdown",
   "id": "6eea5fe9-e0fb-4cce-91cc-e5e7ea2773a6",
   "metadata": {},
   "source": [
    "2. Prompting Technique: Few-Shot Prompting\n",
    "Refer back to the examples in this chapter that generate report-style queries using CTEs. Then ask ChatGPT to generate a similar report: the top five categories by total revenue. Be sure to include example formatting or logic before asking your final question."
   ]
  },
  {
   "cell_type": "markdown",
   "id": "e250ba25-d183-40c7-a4e9-9203746c21f8",
   "metadata": {},
   "source": [
    "Prompt:\n",
    " “Using the Pagila dataset, and following the same CTE format used in earlier report-style queries, write a report that returns the top five film categories by total revenue.”\n",
    " \n",
    "Possible SQL:\n",
    "\n",
    "```\n",
    "WITH category_revenue AS (\n",
    "  SELECT c.name AS category, SUM(p.amount) AS revenue\n",
    "  FROM payment p\n",
    "  JOIN rental r ON p.rental_id = r.rental_id\n",
    "  JOIN inventory i ON r.inventory_id = i.inventory_id\n",
    "  JOIN film f ON i.film_id = f.film_id\n",
    "  JOIN film_category fc ON f.film_id = fc.film_id\n",
    "  JOIN category c ON fc.category_id = c.category_id\n",
    "  GROUP BY c.name\n",
    ")\n",
    "SELECT category, revenue\n",
    "FROM category_revenue\n",
    "ORDER BY revenue DESC\n",
    "LIMIT 5;\n",
    "\n",
    "```"
   ]
  },
  {
   "cell_type": "markdown",
   "id": "fdf8216d-0625-4c5e-aa39-4b91d7b9d761",
   "metadata": {},
   "source": [
    "3.  Prompting Technique: Self-Consistency Prompting\n",
    "Ask ChatGPT to return a list of the top five films with the longest average rental durations. Then request an alternative approach to solving the same problem and compare the two results. Confirm both queries return the same films, even if the syntax is different."
   ]
  },
  {
   "cell_type": "markdown",
   "id": "d23d6039-6cd9-4084-8654-41be9b6d8731",
   "metadata": {},
   "source": [
    "Prompt:\n",
    " “Using the Pagila dataset, list the top five films with the longest average rental durations. Provide two different approaches to solving the problem and compare them.”\n",
    " \n",
    "Possible SQL (Approach 1):\n",
    "```\n",
    "SELECT f.title, AVG(r.return_date - r.rental_date) AS avg_duration\n",
    "FROM rental r\n",
    "JOIN inventory i ON r.inventory_id = i.inventory_id\n",
    "JOIN film f ON i.film_id = f.film_id\n",
    "GROUP BY f.title\n",
    "ORDER BY avg_duration DESC\n",
    "LIMIT 5;\n",
    "```\n",
    "\n",
    "Possible SQL (Approach 2 - with CTE):\n",
    "\n",
    "```\n",
    "WITH rental_durations AS (\n",
    "  SELECT f.film_id, f.title, (r.return_date - r.rental_date) AS duration\n",
    "  FROM rental r\n",
    "  JOIN inventory i ON r.inventory_id = i.inventory_id\n",
    "  JOIN film f ON i.film_id = f.film_id\n",
    ")\n",
    "SELECT title, AVG(duration) AS avg_duration\n",
    "FROM rental_durations\n",
    "GROUP BY title\n",
    "ORDER BY avg_duration DESC\n",
    "LIMIT 5;\n",
    "```"
   ]
  },
  {
   "cell_type": "code",
   "execution_count": null,
   "id": "c959a2a6-0998-47dc-983e-e7e1f72c8155",
   "metadata": {},
   "outputs": [],
   "source": []
  }
 ],
 "metadata": {
  "kernelspec": {
   "display_name": "Python 3 (ipykernel)",
   "language": "python",
   "name": "python3"
  },
  "language_info": {
   "codemirror_mode": {
    "name": "ipython",
    "version": 3
   },
   "file_extension": ".py",
   "mimetype": "text/x-python",
   "name": "python",
   "nbconvert_exporter": "python",
   "pygments_lexer": "ipython3",
   "version": "3.11.5"
  }
 },
 "nbformat": 4,
 "nbformat_minor": 5
}
