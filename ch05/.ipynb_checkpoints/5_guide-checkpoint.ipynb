{
 "cells": [
  {
   "cell_type": "markdown",
   "id": "f6f9d576-7eb3-44eb-a59f-dae9fab5a2b4",
   "metadata": {},
   "source": [
    "# Chapter 5 Guide"
   ]
  },
  {
   "cell_type": "markdown",
   "id": "1b8da0d6-03c6-4e0a-9d25-0eb650e5f89b",
   "metadata": {},
   "source": [
    "#### note: headings in this notebook correspond with listings in the text. "
   ]
  },
  {
   "cell_type": "markdown",
   "id": "ccc21dfa-1216-4fde-bf7f-6a420e73a81f",
   "metadata": {},
   "source": [
    "## 5.1"
   ]
  },
  {
   "cell_type": "code",
   "execution_count": 1,
   "id": "93884add-1675-430b-a203-329954b77a8a",
   "metadata": {
    "tags": []
   },
   "outputs": [
    {
     "name": "stdout",
     "output_type": "stream",
     "text": [
      "{'source': {'id': 'the-verge', 'name': 'The Verge'}, 'author': 'Umar Shakir', 'title': 'Tesla’s latest Cybertruck has longer range and the cheapest price yet', 'description': 'Tesla has a new entry-level Cybertruck with longer range, and it’s the cheapest model yet at $69,990 before the federal $7,500 credit. Tesla pulled some significant features to achieve the price cut.\\xa0 The new “long range” Cybertruck has just a single RWD moto…', 'url': 'https://www.theverge.com/news/647060/tesla-cybertruck-rwd-long-lange-model-launch-entry', 'urlToImage': 'https://platform.theverge.com/wp-content/uploads/sites/2/2025/04/2056219-00-A_01_2000.png.jpeg?quality=90&strip=all&crop=0%2C10.723165084465%2C100%2C78.55366983107&w=1200', 'publishedAt': '2025-04-11T14:22:45Z', 'content': 'This Cybertruck has no powered tonneau cover.\\r\\nThis Cybertruck has no powered tonneau cover.\\r\\nTesla has a new entry-level Cybertruck with longer range, and its the cheapest model yet at $69,990 befor… [+1861 chars]'}\n"
     ]
    }
   ],
   "source": [
    "import requests  #A\n",
    "import pandas as pd  \n",
    "import logging  \n",
    "import os\n",
    "from dotenv import load_dotenv\n",
    "from datetime import datetime, timedelta  \n",
    "\n",
    "load_dotenv()\n",
    "\n",
    "NEWS_API_KEY = os.getenv(\"NEWS_API_KEY\")  #B\n",
    "\n",
    "# Dynamic date calculation: today minus one day  \n",
    "today = datetime.now().date()  #C  \n",
    "yesterday = today - timedelta(days=1)  \n",
    "\n",
    "# Function to extract articles from NewsAPI  \n",
    "def extract_articles(query, from_date=yesterday, api_key=NEWS_API_KEY):  \n",
    "    url = f'https://newsapi.org/v2/everything?q={query}&from={from_date}&to={today}&apiKey={api_key}'  #D\n",
    "    response = requests.get(url)  \n",
    "    \n",
    "    if response.status_code == 200:  \n",
    "        articles = response.json().get('articles', [])  #E\n",
    "        logging.info(f\"Successfully extracted {len(articles)} articles.\")  \n",
    "        return articles  \n",
    "    else:  \n",
    "        logging.error(f\"Failed to fetch articles. Status code: {response.status_code}\")  \n",
    "        return None  \n",
    "\n",
    "# Example use case  \n",
    "articles = extract_articles('Tesla')  #F\n",
    "print(articles[0])\n",
    "#A Import the required libraries for requests, data handling, and logging.\n",
    "#B Store your News API key as a constant for easy access.\n",
    "#C Calculate today’s date and set yesterday for the date range.\n",
    "#D Construct the URL for the NewsAPI request using the query, date range, and API key.\n",
    "#E If the API call succeeds, extract and log the number of articles received.\n",
    "#F Call the extract_articles function with a sample query for \"Tesla\"\n"
   ]
  },
  {
   "cell_type": "markdown",
   "id": "bdcb67fc-14e9-4ab6-a848-2714b5e5bf84",
   "metadata": {
    "tags": []
   },
   "source": [
    "## 5.2"
   ]
  },
  {
   "cell_type": "code",
   "execution_count": 2,
   "id": "c70b4d47-0210-469e-90ac-b51920aa28e4",
   "metadata": {
    "tags": []
   },
   "outputs": [
    {
     "data": {
      "text/html": [
       "<div>\n",
       "<style scoped>\n",
       "    .dataframe tbody tr th:only-of-type {\n",
       "        vertical-align: middle;\n",
       "    }\n",
       "\n",
       "    .dataframe tbody tr th {\n",
       "        vertical-align: top;\n",
       "    }\n",
       "\n",
       "    .dataframe thead th {\n",
       "        text-align: right;\n",
       "    }\n",
       "</style>\n",
       "<table border=\"1\" class=\"dataframe\">\n",
       "  <thead>\n",
       "    <tr style=\"text-align: right;\">\n",
       "      <th></th>\n",
       "      <th>title</th>\n",
       "      <th>description</th>\n",
       "      <th>content</th>\n",
       "    </tr>\n",
       "  </thead>\n",
       "  <tbody>\n",
       "    <tr>\n",
       "      <th>0</th>\n",
       "      <td>Tesla’s latest Cybertruck has longer range and...</td>\n",
       "      <td>Tesla has a new entry-level Cybertruck with lo...</td>\n",
       "      <td>Tesla’s latest Cybertruck has longer range and...</td>\n",
       "    </tr>\n",
       "    <tr>\n",
       "      <th>1</th>\n",
       "      <td>Tesla Halts Sales of Model S and X in China as...</td>\n",
       "      <td>Tesla's factory in Shanghai only produces the ...</td>\n",
       "      <td>Tesla Halts Sales of Model S and X in China as...</td>\n",
       "    </tr>\n",
       "    <tr>\n",
       "      <th>2</th>\n",
       "      <td>Elon Musk Is Annoying, Unfunny, and Should Pro...</td>\n",
       "      <td>A senior official describes the billionaire as...</td>\n",
       "      <td>Elon Musk Is Annoying, Unfunny, and Should Pro...</td>\n",
       "    </tr>\n",
       "    <tr>\n",
       "      <th>3</th>\n",
       "      <td>Tesla, Apple, Jamie Dimon comments: Trending T...</td>\n",
       "      <td>None</td>\n",
       "      <td>Tesla, Apple, Jamie Dimon comments: Trending T...</td>\n",
       "    </tr>\n",
       "    <tr>\n",
       "      <th>4</th>\n",
       "      <td>Tesla Introduces New Cybertruck at $70,000 Ami...</td>\n",
       "      <td>None</td>\n",
       "      <td>Tesla Introduces New Cybertruck at $70,000 Ami...</td>\n",
       "    </tr>\n",
       "  </tbody>\n",
       "</table>\n",
       "</div>"
      ],
      "text/plain": [
       "                                               title  \\\n",
       "0  Tesla’s latest Cybertruck has longer range and...   \n",
       "1  Tesla Halts Sales of Model S and X in China as...   \n",
       "2  Elon Musk Is Annoying, Unfunny, and Should Pro...   \n",
       "3  Tesla, Apple, Jamie Dimon comments: Trending T...   \n",
       "4  Tesla Introduces New Cybertruck at $70,000 Ami...   \n",
       "\n",
       "                                         description  \\\n",
       "0  Tesla has a new entry-level Cybertruck with lo...   \n",
       "1  Tesla's factory in Shanghai only produces the ...   \n",
       "2  A senior official describes the billionaire as...   \n",
       "3                                               None   \n",
       "4                                               None   \n",
       "\n",
       "                                             content  \n",
       "0  Tesla’s latest Cybertruck has longer range and...  \n",
       "1  Tesla Halts Sales of Model S and X in China as...  \n",
       "2  Elon Musk Is Annoying, Unfunny, and Should Pro...  \n",
       "3  Tesla, Apple, Jamie Dimon comments: Trending T...  \n",
       "4  Tesla Introduces New Cybertruck at $70,000 Ami...  "
      ]
     },
     "metadata": {},
     "output_type": "display_data"
    }
   ],
   "source": [
    "# Function to preprocess articles  \n",
    "def preprocess_articles(articles):  \n",
    "    data = []  #A\n",
    "    \n",
    "    for article in articles[:5]:  # Limiting to 5 articles for testing  #B\n",
    "        title = article.get('title', '')  \n",
    "        description = article.get('description', '')  \n",
    "        content = article.get('content', '')  \n",
    "        \n",
    "        # Clean and format the text  \n",
    "        clean_text = f\"{title} {description} {content}\".replace('\\n', ' ').strip()  #C\n",
    "        data.append({  \n",
    "            'title': title,  \n",
    "            'description': description,  \n",
    "            'content': clean_text  \n",
    "        })  \n",
    "        \n",
    "    df = pd.DataFrame(data)  #D\n",
    "    logging.info(f\"Preprocessed {len(df)} articles.\")  \n",
    "    return df  \n",
    "\n",
    "# Preprocess the extracted articles  \n",
    "df_articles = preprocess_articles(articles)  #E\n",
    "display(df_articles)\n",
    "#A Initialize an empty list to store preprocessed article data.\n",
    "#B Loop through the first 5 articles, limiting the scope for testing.\n",
    "#C Clean and format the combined text fields by removing line breaks.\n",
    "#D Convert the list of dictionaries into a DataFrame for structured analysis.\n",
    "#E Call preprocess_articles on the extracted articles, storing the result in df_articles.\n"
   ]
  },
  {
   "cell_type": "markdown",
   "id": "8350c94c-040b-4f1f-b4f4-2e64fcbdf6b0",
   "metadata": {},
   "source": [
    "## 5.3"
   ]
  },
  {
   "cell_type": "code",
   "execution_count": 3,
   "id": "b14eda66-ff3f-44f9-baad-c35f86a1e6a3",
   "metadata": {
    "tags": []
   },
   "outputs": [
    {
     "name": "stdout",
     "output_type": "stream",
     "text": [
      "ChatCompletion(id='chatcmpl-BLYOFM56pNu2OfQHrvvgEp8MDYPfY', choices=[Choice(finish_reason='stop', index=0, logprobs=None, message=ChatCompletionMessage(content=\"Thank you for asking! As an AI, I don't have feelings or moods, but I'm here and ready to help you with whatever you need. How can I assist you today?\", refusal=None, role='assistant', annotations=[], audio=None, function_call=None, tool_calls=None))], created=1744476783, model='gpt-4o-2024-08-06', object='chat.completion', service_tier='default', system_fingerprint='fp_432e014d75', usage=CompletionUsage(completion_tokens=37, prompt_tokens=22, total_tokens=59, completion_tokens_details=CompletionTokensDetails(accepted_prediction_tokens=0, audio_tokens=0, reasoning_tokens=0, rejected_prediction_tokens=0), prompt_tokens_details=PromptTokensDetails(audio_tokens=0, cached_tokens=0)))\n"
     ]
    }
   ],
   "source": [
    "import openai             #A\n",
    "import os                 #B\n",
    "from dotenv import load_dotenv\n",
    "\n",
    "load_dotenv()\n",
    "\n",
    "openai.api_key = os.getenv(\"OPENAI_API_KEY\")  #C\n",
    "\n",
    "prompt = \"How are you today?\"  #D\n",
    "\n",
    "response = openai.chat.completions.create(    #E\n",
    "    model=\"gpt-4o\",                           #F\n",
    "    messages=[                                #G\n",
    "        {\"role\": \"system\", \"content\": \"You are a helpful assistant.\"},  \n",
    "        {\"role\": \"user\", \"content\": prompt}  \n",
    "    ],  \n",
    "    max_tokens=100,                           #H\n",
    "    temperature=0.5                           #I\n",
    ")\n",
    "\n",
    "print(response)  #J\n",
    "\n",
    "#A Import the OpenAI SDK so you can interact with the Chat Completions endpoint.\n",
    "#B Import the os module to access environment variables securely.\n",
    "#C Set your API key by retrieving it from the OPENAI_API_KEY environment variable.\n",
    "#D Define a simple test prompt to send to the model.\n",
    "#E Call the chat.completions.create() method to start the chat request.\n",
    "#F Specify the model—here we're using gpt-4o.\n",
    "#G Provide the message sequence: a system message and a user input prompt.\n",
    "#H Limit the length of the model’s response using max_tokens.\n",
    "#I Control the randomness of the output with temperature (lower is more focused).\n",
    "#J Print the full response object to verify output and confirm the setup is working."
   ]
  },
  {
   "cell_type": "markdown",
   "id": "3a511576-ff08-4b5b-9c7a-9395eaf43be5",
   "metadata": {},
   "source": [
    "## 5.4"
   ]
  },
  {
   "cell_type": "code",
   "execution_count": 4,
   "id": "174d5530-88e5-42a3-8779-ad4a8287e5d0",
   "metadata": {
    "tags": []
   },
   "outputs": [
    {
     "name": "stdout",
     "output_type": "stream",
     "text": [
      "Sentiment: The sentiment of the article content appears to be neutral. The article provides factual information about the new entry-level Cybertruck, highlighting its longer range and lower price. While it mentions that some features, such as the powered tonneau cover, have been removed to achieve the price cut, it does not express any strong positive or negative opinions about these changes. The focus is on delivering information rather than conveying a particular sentiment.\n"
     ]
    }
   ],
   "source": [
    "import openai\n",
    "import os\n",
    "from dotenv import load_dotenv\n",
    "\n",
    "load_dotenv()\n",
    "\n",
    "\n",
    "# Set your OpenAI API key  \n",
    "openai.api_key = os.getenv(\"OPENAI_API_KEY\") #A\n",
    "\n",
    "# Function to perform sentiment analysis using ChatGPT  \n",
    "def perform_sentiment_analysis(article_content):  \n",
    "    prompt = f\"Analyze the sentiment of the following article content: {article_content}. Is the sentiment positive, negative, or neutral?\"\n",
    "    \n",
    "    try:  \n",
    "        # Correcting the method and capitalization\n",
    "        response = openai.chat.completions.create(  \n",
    "            model=\"gpt-4o\",  # Ensure the model name is correct\n",
    "            messages=[  \n",
    "                {\"role\": \"system\", \"content\": \"You are a helpful assistant.\"},  \n",
    "                {\"role\": \"user\", \"content\": prompt}  \n",
    "            ],  \n",
    "            max_tokens=100,  \n",
    "            temperature=0.5  \n",
    "        )\n",
    "        \n",
    "        # Corrected way to access the content\n",
    "        sentiment = response.choices[0].message.content.strip()\n",
    "        return sentiment  \n",
    "    except Exception as e:  \n",
    "        logging.error(f\"Error performing sentiment analysis: {e}\")  \n",
    "        return None  \n",
    "\n",
    "# Example: Perform sentiment analysis on the first article  \n",
    "example_article_content = df_articles['content'].iloc[0]  \n",
    "sentiment = perform_sentiment_analysis(example_article_content)  \n",
    "print(f\"Sentiment: {sentiment}\")\n",
    "\n",
    "\n",
    "#A Set the OpenAI API key required to authenticate requests to the API.\n",
    "#B Create a prompt that instructs ChatGPT to analyze the sentiment of the article content.\n",
    "#C Extract and clean the response to obtain the sentiment result.\n",
    "#D Select the content of the first article for a sample analysis.\n",
    "#E Call perform_sentiment_analysis on the example article content.\n",
    "#F Print the sentiment result to verify the output.\n"
   ]
  },
  {
   "cell_type": "code",
   "execution_count": 5,
   "id": "15c94679-b190-4d1d-978e-900dfd8de705",
   "metadata": {
    "tags": []
   },
   "outputs": [
    {
     "name": "stdout",
     "output_type": "stream",
     "text": [
      "Sentiment: Neutral\n"
     ]
    }
   ],
   "source": [
    "import openai\n",
    "import os\n",
    "from dotenv import load_dotenv\n",
    "\n",
    "load_dotenv()\n",
    "\n",
    "\n",
    "# Set your OpenAI API key  \n",
    "openai.api_key = os.getenv(\"OPENAI_API_KEY\") #A\n",
    "\n",
    "# Function to perform sentiment analysis using ChatGPT  \n",
    "def perform_sentiment_analysis(article_content):  \n",
    "    prompt = f\"Analyze the sentiment of the following article content and return 'Positive', 'Neutral', or 'Negative' only: {article_content}\"\n",
    "    \n",
    "    try:  \n",
    "        # Correcting the method and capitalization\n",
    "        response = openai.chat.completions.create(  \n",
    "            model=\"gpt-4o\",  # Ensure the model name is correct\n",
    "            messages=[  \n",
    "                {\"role\": \"system\", \"content\": \"You are a helpful assistant.\"},  \n",
    "                {\"role\": \"user\", \"content\": prompt}  \n",
    "            ],  \n",
    "            max_tokens=100,  \n",
    "            temperature=0.5  \n",
    "        )\n",
    "        \n",
    "        # Corrected way to access the content\n",
    "        sentiment = response.choices[0].message.content.strip()\n",
    "        return sentiment  \n",
    "    except Exception as e:  \n",
    "        logging.error(f\"Error performing sentiment analysis: {e}\")  \n",
    "        return None  \n",
    "\n",
    "# Example: Perform sentiment analysis on the first article  \n",
    "example_article_content = df_articles['content'].iloc[0]  \n",
    "sentiment = perform_sentiment_analysis(example_article_content)  \n",
    "print(f\"Sentiment: {sentiment}\")\n",
    "\n",
    "\n",
    "#A Set the OpenAI API key required to authenticate requests to the API.\n",
    "#B Create a prompt that instructs ChatGPT to analyze the sentiment of the article content.\n",
    "#C Extract and clean the response to obtain the sentiment result.\n",
    "#D Select the content of the first article for a sample analysis.\n",
    "#E Call perform_sentiment_analysis on the example article content.\n",
    "#F Print the sentiment result to verify the output.\n"
   ]
  },
  {
   "cell_type": "markdown",
   "id": "db7df1bc-c934-4bdd-8789-66db7a186506",
   "metadata": {},
   "source": [
    "## 5.5"
   ]
  },
  {
   "cell_type": "code",
   "execution_count": 6,
   "id": "050bf72a-5ad8-4bcb-9e01-5fe05bb3f0e2",
   "metadata": {
    "tags": []
   },
   "outputs": [],
   "source": [
    "import logging  #A\n",
    "\n",
    "#A Set up logging (if not already configured earlier)\n",
    "logging.basicConfig(level=logging.INFO, format='%(levelname)s: %(message)s')  \n",
    "\n",
    "#B Function to apply sentiment analysis to all articles and log results\n",
    "def update_with_sentiment(df):\n",
    "    sentiments = []  #C\n",
    "\n",
    "    for index, content in enumerate(df['content']):  #D\n",
    "        sentiment = perform_sentiment_analysis(content)  #E\n",
    "        sentiments.append(sentiment)\n",
    "        logging.info(f\"Processed article {index + 1}/{len(df)} — Sentiment: {sentiment}\")  #F\n",
    "\n",
    "    df['sentiment'] = sentiments  #G\n",
    "    return df\n",
    "\n",
    "\n",
    "#A Sets up logging to track pipeline progress.\n",
    "#B Defines the final pipeline step—enriching the DataFrame with sentiment labels.\n",
    "#C Initializes an empty list to store each article’s sentiment result.\n",
    "#D Loops through the article text in the content column.\n",
    "#E Applies the AI sentiment function to each entry.\n",
    "#F Logs the result of each sentiment analysis with a progress counter.\n",
    "#G Appends the sentiment column to the existing DataFrame.\n"
   ]
  },
  {
   "cell_type": "markdown",
   "id": "3580aee7-5088-431c-9e7f-7654ada4e137",
   "metadata": {
    "tags": []
   },
   "source": [
    "## full pipeline"
   ]
  },
  {
   "cell_type": "code",
   "execution_count": 9,
   "id": "b4b2c532-8752-4112-802e-536f0c56400e",
   "metadata": {
    "tags": []
   },
   "outputs": [
    {
     "data": {
      "text/html": [
       "<div>\n",
       "<style scoped>\n",
       "    .dataframe tbody tr th:only-of-type {\n",
       "        vertical-align: middle;\n",
       "    }\n",
       "\n",
       "    .dataframe tbody tr th {\n",
       "        vertical-align: top;\n",
       "    }\n",
       "\n",
       "    .dataframe thead th {\n",
       "        text-align: right;\n",
       "    }\n",
       "</style>\n",
       "<table border=\"1\" class=\"dataframe\">\n",
       "  <thead>\n",
       "    <tr style=\"text-align: right;\">\n",
       "      <th></th>\n",
       "      <th>title</th>\n",
       "      <th>sentiment</th>\n",
       "    </tr>\n",
       "  </thead>\n",
       "  <tbody>\n",
       "    <tr>\n",
       "      <th>0</th>\n",
       "      <td>Tesla’s latest Cybertruck has longer range and...</td>\n",
       "      <td>Neutral</td>\n",
       "    </tr>\n",
       "    <tr>\n",
       "      <th>1</th>\n",
       "      <td>Tesla Halts Sales of Model S and X in China as...</td>\n",
       "      <td>Negative</td>\n",
       "    </tr>\n",
       "    <tr>\n",
       "      <th>2</th>\n",
       "      <td>Elon Musk Is Annoying, Unfunny, and Should Pro...</td>\n",
       "      <td>Negative</td>\n",
       "    </tr>\n",
       "    <tr>\n",
       "      <th>3</th>\n",
       "      <td>Tesla, Apple, Jamie Dimon comments: Trending T...</td>\n",
       "      <td>Neutral</td>\n",
       "    </tr>\n",
       "    <tr>\n",
       "      <th>4</th>\n",
       "      <td>Tesla Introduces New Cybertruck at $70,000 Ami...</td>\n",
       "      <td>Negative</td>\n",
       "    </tr>\n",
       "  </tbody>\n",
       "</table>\n",
       "</div>"
      ],
      "text/plain": [
       "                                               title sentiment\n",
       "0  Tesla’s latest Cybertruck has longer range and...   Neutral\n",
       "1  Tesla Halts Sales of Model S and X in China as...  Negative\n",
       "2  Elon Musk Is Annoying, Unfunny, and Should Pro...  Negative\n",
       "3  Tesla, Apple, Jamie Dimon comments: Trending T...   Neutral\n",
       "4  Tesla Introduces New Cybertruck at $70,000 Ami...  Negative"
      ]
     },
     "execution_count": 9,
     "metadata": {},
     "output_type": "execute_result"
    }
   ],
   "source": [
    "import os                    #A\n",
    "import openai                #B\n",
    "import requests              #C\n",
    "import pandas as pd          #D\n",
    "import logging               #E\n",
    "from datetime import datetime, timedelta  #F\n",
    "from dotenv import load_dotenv            #G\n",
    "\n",
    "# Load environment variables from .env file\n",
    "load_dotenv()                #H\n",
    "\n",
    "# Configure logging\n",
    "logging.basicConfig(level=logging.INFO, format='%(levelname)s: %(message)s')  #I\n",
    "\n",
    "# Retrieve API keys from environment\n",
    "NEWS_API_KEY = os.getenv(\"NEWS_API_KEY\")          #J\n",
    "openai.api_key = os.getenv(\"OPENAI_API_KEY\")      #K\n",
    "\n",
    "# Step 1: Extract articles using NewsAPI\n",
    "today = datetime.now().date()                     #L\n",
    "yesterday = today - timedelta(days=1)             #M\n",
    "\n",
    "def extract_articles(query, from_date=yesterday, api_key=NEWS_API_KEY):       #N\n",
    "    url = f'https://newsapi.org/v2/everything?q={query}&from={from_date}&to={today}&apiKey={api_key}'\n",
    "    response = requests.get(url)\n",
    "\n",
    "    if response.status_code == 200:\n",
    "        articles = response.json().get('articles', [])\n",
    "        logging.info(f\"Successfully extracted {len(articles)} articles.\")\n",
    "        return articles\n",
    "    else:\n",
    "        logging.error(f\"Failed to fetch articles. Status code: {response.status_code}\")\n",
    "        return []\n",
    "\n",
    "# Step 2: Preprocess the articles\n",
    "def preprocess_articles(articles):                #O\n",
    "    data = []\n",
    "    for article in articles[:5]:  # Limit for testing\n",
    "        title = article.get('title', '')\n",
    "        description = article.get('description', '')\n",
    "        content = article.get('content', '')\n",
    "        full_text = f\"{title} {description} {content}\".replace('\\n', ' ').strip()\n",
    "\n",
    "        data.append({\n",
    "            'title': title,\n",
    "            'description': description,\n",
    "            'content': full_text\n",
    "        })\n",
    "\n",
    "    df = pd.DataFrame(data)\n",
    "    logging.info(f\"Preprocessed {len(df)} articles.\")\n",
    "    return df\n",
    "\n",
    "# Step 3: Perform sentiment analysis with normalized output\n",
    "def perform_sentiment_analysis(article_content):  #P\n",
    "    prompt = f\"Analyze the sentiment of the following article content and return 'Positive', 'Neutral', or 'Negative' only: {article_content}\"\n",
    "    \n",
    "    try:\n",
    "        response = openai.chat.completions.create(\n",
    "            model=\"gpt-4o\",\n",
    "            messages=[\n",
    "                {\"role\": \"system\", \"content\": \"You are a helpful assistant.\"},\n",
    "                {\"role\": \"user\", \"content\": prompt}\n",
    "            ],\n",
    "            max_tokens=50,\n",
    "            temperature=0.5\n",
    "        )\n",
    "        sentiment = response.choices[0].message.content.strip()\n",
    "        return sentiment\n",
    "    except Exception as e:\n",
    "        logging.error(f\"Error performing sentiment analysis: {e}\")\n",
    "        return None\n",
    "\n",
    "# Step 4: Update the DataFrame with sentiment results\n",
    "def update_with_sentiment(df):                    #Q\n",
    "    sentiments = []\n",
    "    for index, content in enumerate(df['content']):\n",
    "        sentiment = perform_sentiment_analysis(content)\n",
    "        sentiments.append(sentiment)\n",
    "        logging.info(f\"Processed article {index + 1}/{len(df)}: Sentiment = {sentiment}\")\n",
    "    \n",
    "    df['sentiment'] = sentiments\n",
    "    return df\n",
    "\n",
    "# Run the pipeline\n",
    "articles = extract_articles('Tesla')              #R\n",
    "df_articles = preprocess_articles(articles)       #S\n",
    "df_with_sentiment = update_with_sentiment(df_articles)  #T\n",
    "\n",
    "# Display the final DataFrame\n",
    "df_with_sentiment[['title', 'sentiment']]         #U\n"
   ]
  },
  {
   "cell_type": "code",
   "execution_count": null,
   "id": "f344d800-1898-47bf-b58e-d72a238cff95",
   "metadata": {},
   "outputs": [],
   "source": []
  }
 ],
 "metadata": {
  "kernelspec": {
   "display_name": "Python 3 (ipykernel)",
   "language": "python",
   "name": "python3"
  },
  "language_info": {
   "codemirror_mode": {
    "name": "ipython",
    "version": 3
   },
   "file_extension": ".py",
   "mimetype": "text/x-python",
   "name": "python",
   "nbconvert_exporter": "python",
   "pygments_lexer": "ipython3",
   "version": "3.11.5"
  }
 },
 "nbformat": 4,
 "nbformat_minor": 5
}
