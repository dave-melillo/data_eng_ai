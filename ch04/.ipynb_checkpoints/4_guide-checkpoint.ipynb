{
 "cells": [
  {
   "cell_type": "markdown",
   "id": "309e41c3-5bb8-42a6-a49a-7aa74c53d3bb",
   "metadata": {
    "tags": []
   },
   "source": [
    "# Chapter 4 Guide"
   ]
  },
  {
   "cell_type": "markdown",
   "id": "6beb6908-2b41-42c6-93b6-b794e21dbf35",
   "metadata": {
    "tags": []
   },
   "source": [
    "#### note: headings in this notebook correspond with figures in the text. "
   ]
  },
  {
   "cell_type": "markdown",
   "id": "7e132447-2634-46cf-b369-caef1b608d10",
   "metadata": {
    "tags": []
   },
   "source": [
    "## 4.1"
   ]
  },
  {
   "cell_type": "code",
   "execution_count": 2,
   "id": "1509f50e-1d97-45e8-abaf-c14f81250183",
   "metadata": {
    "tags": []
   },
   "outputs": [
    {
     "data": {
      "text/html": [
       "<div>\n",
       "<style scoped>\n",
       "    .dataframe tbody tr th:only-of-type {\n",
       "        vertical-align: middle;\n",
       "    }\n",
       "\n",
       "    .dataframe tbody tr th {\n",
       "        vertical-align: top;\n",
       "    }\n",
       "\n",
       "    .dataframe thead th {\n",
       "        text-align: right;\n",
       "    }\n",
       "</style>\n",
       "<table border=\"1\" class=\"dataframe\">\n",
       "  <thead>\n",
       "    <tr style=\"text-align: right;\">\n",
       "      <th></th>\n",
       "      <th>Number</th>\n",
       "      <th>Fact</th>\n",
       "    </tr>\n",
       "  </thead>\n",
       "  <tbody>\n",
       "    <tr>\n",
       "      <th>0</th>\n",
       "      <td>42</td>\n",
       "      <td>42 is the answer to the Ultimate Question of L...</td>\n",
       "    </tr>\n",
       "    <tr>\n",
       "      <th>1</th>\n",
       "      <td>7</td>\n",
       "      <td>7 is the number of seconds it takes \"Superman:...</td>\n",
       "    </tr>\n",
       "    <tr>\n",
       "      <th>2</th>\n",
       "      <td>100</td>\n",
       "      <td>100 is the number of runs required for a crick...</td>\n",
       "    </tr>\n",
       "  </tbody>\n",
       "</table>\n",
       "</div>"
      ],
      "text/plain": [
       "   Number                                               Fact\n",
       "0      42  42 is the answer to the Ultimate Question of L...\n",
       "1       7  7 is the number of seconds it takes \"Superman:...\n",
       "2     100  100 is the number of runs required for a crick..."
      ]
     },
     "metadata": {},
     "output_type": "display_data"
    }
   ],
   "source": [
    "# An example prompt to get us started is below.\n",
    "# Prompt: \"Write a Python script that takes a list of numbers, queries the NumbersAPI for trivia facts, and stores the results in a pandas DataFrame. Handle errors gracefully if a request fails.\"\n",
    "# The AI will generate something similar to the following script:\n",
    "# Response:\n",
    "import requests\n",
    "import pandas as pd\n",
    "import logging\n",
    "\n",
    "# Set up logging to capture API results and errors\n",
    "logging.basicConfig(filename='api_requests.log', level=logging.INFO)\n",
    "\n",
    "def fetch_number_facts(numbers):\n",
    "    data = []\n",
    "    for num in numbers:\n",
    "        try:\n",
    "            response = requests.get(f\"http://numbersapi.com/{num}?json\")\n",
    "            if response.status_code == 200:\n",
    "                fact = response.json().get('text', 'No fact available')\n",
    "                data.append({'Number': num, 'Fact': fact})\n",
    "                logging.info(f\"Successfully retrieved fact for {num}\")\n",
    "            else:\n",
    "                data.append({'Number': num, 'Fact': f\"Error: Status {response.status_code}\"})\n",
    "                logging.error(f\"Failed to retrieve fact for {num}, Status: {response.status_code}\")\n",
    "        except Exception as e:\n",
    "            data.append({'Number': num, 'Fact': f\"Error: {str(e)}\"})\n",
    "            logging.error(f\"Error occurred while fetching fact for {num}: {str(e)}\")\n",
    "    \n",
    "    return pd.DataFrame(data)\n",
    "\n",
    "# Example usage\n",
    "numbers = [42, 7, 100]\n",
    "df = fetch_number_facts(numbers)\n",
    "display(df)\n"
   ]
  },
  {
   "cell_type": "markdown",
   "id": "484cb9f2-0c90-48e1-a14c-f7fb8855d205",
   "metadata": {},
   "source": [
    "## 4.2"
   ]
  },
  {
   "cell_type": "code",
   "execution_count": 4,
   "id": "310d60ac-a637-4743-818c-79e57e78ec22",
   "metadata": {
    "tags": []
   },
   "outputs": [
    {
     "name": "stdout",
     "output_type": "stream",
     "text": [
      "Processing number: 42\n",
      "Success: Retrieved fact for 42\n",
      "Processing number: 7\n",
      "Success: Retrieved fact for 7\n",
      "Processing number: 100\n",
      "Success: Retrieved fact for 100\n"
     ]
    },
    {
     "data": {
      "text/html": [
       "<div>\n",
       "<style scoped>\n",
       "    .dataframe tbody tr th:only-of-type {\n",
       "        vertical-align: middle;\n",
       "    }\n",
       "\n",
       "    .dataframe tbody tr th {\n",
       "        vertical-align: top;\n",
       "    }\n",
       "\n",
       "    .dataframe thead th {\n",
       "        text-align: right;\n",
       "    }\n",
       "</style>\n",
       "<table border=\"1\" class=\"dataframe\">\n",
       "  <thead>\n",
       "    <tr style=\"text-align: right;\">\n",
       "      <th></th>\n",
       "      <th>Number</th>\n",
       "      <th>Fact</th>\n",
       "    </tr>\n",
       "  </thead>\n",
       "  <tbody>\n",
       "    <tr>\n",
       "      <th>0</th>\n",
       "      <td>42</td>\n",
       "      <td>42 is the number of kilometers in a marathon.</td>\n",
       "    </tr>\n",
       "    <tr>\n",
       "      <th>1</th>\n",
       "      <td>7</td>\n",
       "      <td>7 is the number of days in a week.</td>\n",
       "    </tr>\n",
       "    <tr>\n",
       "      <th>2</th>\n",
       "      <td>100</td>\n",
       "      <td>100 is the number of pounds in an American sho...</td>\n",
       "    </tr>\n",
       "  </tbody>\n",
       "</table>\n",
       "</div>"
      ],
      "text/plain": [
       "   Number                                               Fact\n",
       "0      42      42 is the number of kilometers in a marathon.\n",
       "1       7                 7 is the number of days in a week.\n",
       "2     100  100 is the number of pounds in an American sho..."
      ]
     },
     "metadata": {},
     "output_type": "display_data"
    }
   ],
   "source": [
    "# Prompt: \"Modify the script to include retry logic for API requests that fail due to a timeout. Retry up to 3 times with a 5-second delay between attempts. Also, print a message to the console each time the script begins processing a number.\"\n",
    "# The AI will update the script to incorporate retry logic, reducing failures due to temporary network issues:\n",
    "# Response:\n",
    "import requests\n",
    "import pandas as pd\n",
    "import logging\n",
    "import time\n",
    "\n",
    "# Set up logging\n",
    "logging.basicConfig(filename='api_requests.log', level=logging.INFO)\n",
    "\n",
    "def fetch_number_facts(numbers):\n",
    "    data = []\n",
    "    for num in numbers:\n",
    "        print(f\"Processing number: {num}\")  # Visible in console\n",
    "        logging.info(f\"Processing number: {num}\")\n",
    "        attempts = 0\n",
    "        success = False\n",
    "        while attempts < 3 and not success:\n",
    "            try:\n",
    "                response = requests.get(f\"http://numbersapi.com/{num}?json\", timeout=10)\n",
    "                if response.status_code == 200:\n",
    "                    fact = response.json().get('text', 'No fact available')\n",
    "                    data.append({'Number': num, 'Fact': fact})\n",
    "                    print(f\"Success: Retrieved fact for {num}\")  # Optional\n",
    "                    logging.info(f\"Successfully retrieved fact for {num}\")\n",
    "                    success = True\n",
    "                else:\n",
    "                    print(f\"Error: Status {response.status_code} for number {num}\")\n",
    "                    logging.error(f\"Failed to retrieve fact for {num}, Status: {response.status_code}\")\n",
    "                    attempts += 1\n",
    "                    time.sleep(5)\n",
    "            except requests.exceptions.Timeout:\n",
    "                attempts += 1\n",
    "                print(f\"Timeout: Attempt {attempts} for number {num}\")\n",
    "                logging.warning(f\"Timeout while fetching fact for {num}, attempt {attempts}\")\n",
    "                time.sleep(5)\n",
    "            except Exception as e:\n",
    "                print(f\"Unexpected error for {num}: {str(e)}\")\n",
    "                logging.error(f\"Unexpected error for {num}: {str(e)}\")\n",
    "                break\n",
    "    \n",
    "    return pd.DataFrame(data)\n",
    "\n",
    "# Example usage\n",
    "numbers = [42, 7, 100]\n",
    "df = fetch_number_facts(numbers)\n",
    "display(df)\n"
   ]
  },
  {
   "cell_type": "markdown",
   "id": "11320daa-7f91-417b-ae95-becf141d59c3",
   "metadata": {},
   "source": [
    "# 4.3"
   ]
  },
  {
   "cell_type": "code",
   "execution_count": 5,
   "id": "731cefb5-2f02-4263-b69a-e86eaf2f7a6e",
   "metadata": {
    "tags": []
   },
   "outputs": [
    {
     "name": "stdout",
     "output_type": "stream",
     "text": [
      "Processing number: 17\n",
      "Processing number: 23\n",
      "Processing number: 88\n"
     ]
    },
    {
     "data": {
      "text/html": [
       "<div>\n",
       "<style scoped>\n",
       "    .dataframe tbody tr th:only-of-type {\n",
       "        vertical-align: middle;\n",
       "    }\n",
       "\n",
       "    .dataframe tbody tr th {\n",
       "        vertical-align: top;\n",
       "    }\n",
       "\n",
       "    .dataframe thead th {\n",
       "        text-align: right;\n",
       "    }\n",
       "</style>\n",
       "<table border=\"1\" class=\"dataframe\">\n",
       "  <thead>\n",
       "    <tr style=\"text-align: right;\">\n",
       "      <th></th>\n",
       "      <th>Number</th>\n",
       "      <th>Fact</th>\n",
       "      <th>Found</th>\n",
       "    </tr>\n",
       "  </thead>\n",
       "  <tbody>\n",
       "    <tr>\n",
       "      <th>0</th>\n",
       "      <td>17</td>\n",
       "      <td>'the least random number' as described at MIT,...</td>\n",
       "      <td>True</td>\n",
       "    </tr>\n",
       "    <tr>\n",
       "      <th>1</th>\n",
       "      <td>23</td>\n",
       "      <td>the number of chromosomes normal human sex cel...</td>\n",
       "      <td>True</td>\n",
       "    </tr>\n",
       "    <tr>\n",
       "      <th>2</th>\n",
       "      <td>88</td>\n",
       "      <td>the approximate number of days it takes Mercur...</td>\n",
       "      <td>True</td>\n",
       "    </tr>\n",
       "  </tbody>\n",
       "</table>\n",
       "</div>"
      ],
      "text/plain": [
       "   Number                                               Fact  Found\n",
       "0      17  'the least random number' as described at MIT,...   True\n",
       "1      23  the number of chromosomes normal human sex cel...   True\n",
       "2      88  the approximate number of days it takes Mercur...   True"
      ]
     },
     "metadata": {},
     "output_type": "display_data"
    }
   ],
   "source": [
    "# Enhanced Prompt:\n",
    "# I’ve uploaded the NumbersAPI reference file. Using that, please write a Python script that retrieves trivia facts for a list of numbers (e.g., 17, 23, 88). Use the JSON response format, and include the notfound=floor and fragment=true query parameters. Return the results as a pandas DataFrame and include basic error handling.\n",
    "# Response:\n",
    "import requests\n",
    "import pandas as pd\n",
    "\n",
    "def fetch_number_facts(numbers):\n",
    "    data = []\n",
    "\n",
    "    for num in numbers:\n",
    "        print(f\"Processing number: {num}\")\n",
    "        try:\n",
    "            url = f\"http://numbersapi.com/{num}/trivia?json=true&notfound=floor&fragment=true\"\n",
    "            response = requests.get(url, timeout=10)\n",
    "            if response.status_code == 200:\n",
    "                json_data = response.json()\n",
    "                data.append({\n",
    "                    'Number': json_data.get('number', num),\n",
    "                    'Fact': json_data.get('text', 'No fact available'),\n",
    "                    'Found': json_data.get('found', False)\n",
    "                })\n",
    "            else:\n",
    "                print(f\"Failed to fetch data for {num}. Status code: {response.status_code}\")\n",
    "        except Exception as e:\n",
    "            print(f\"Error fetching data for {num}: {e}\")\n",
    "            data.append({'Number': num, 'Fact': 'Error occurred', 'Found': False})\n",
    "    \n",
    "    return pd.DataFrame(data)\n",
    "\n",
    "# Example usage\n",
    "numbers = [17, 23, 88]\n",
    "df = fetch_number_facts(numbers)\n",
    "display(df)\n"
   ]
  },
  {
   "cell_type": "markdown",
   "id": "00708a17-d5db-415f-af9b-be387545ca6d",
   "metadata": {
    "tags": []
   },
   "source": [
    "## 4.4"
   ]
  },
  {
   "cell_type": "code",
   "execution_count": 7,
   "id": "2145dbfb-f73e-4242-a057-f0b85191b732",
   "metadata": {
    "tags": []
   },
   "outputs": [
    {
     "data": {
      "text/html": [
       "<div>\n",
       "<style scoped>\n",
       "    .dataframe tbody tr th:only-of-type {\n",
       "        vertical-align: middle;\n",
       "    }\n",
       "\n",
       "    .dataframe tbody tr th {\n",
       "        vertical-align: top;\n",
       "    }\n",
       "\n",
       "    .dataframe thead th {\n",
       "        text-align: right;\n",
       "    }\n",
       "</style>\n",
       "<table border=\"1\" class=\"dataframe\">\n",
       "  <thead>\n",
       "    <tr style=\"text-align: right;\">\n",
       "      <th></th>\n",
       "      <th>Name</th>\n",
       "      <th>Email</th>\n",
       "      <th>City</th>\n",
       "    </tr>\n",
       "  </thead>\n",
       "  <tbody>\n",
       "    <tr>\n",
       "      <th>0</th>\n",
       "      <td>Leanne Graham</td>\n",
       "      <td>Sincere@april.biz</td>\n",
       "      <td>Gwenborough</td>\n",
       "    </tr>\n",
       "    <tr>\n",
       "      <th>1</th>\n",
       "      <td>Ervin Howell</td>\n",
       "      <td>Shanna@melissa.tv</td>\n",
       "      <td>Wisokyburgh</td>\n",
       "    </tr>\n",
       "    <tr>\n",
       "      <th>2</th>\n",
       "      <td>Clementine Bauch</td>\n",
       "      <td>Nathan@yesenia.net</td>\n",
       "      <td>McKenziehaven</td>\n",
       "    </tr>\n",
       "    <tr>\n",
       "      <th>3</th>\n",
       "      <td>Patricia Lebsack</td>\n",
       "      <td>Julianne.OConner@kory.org</td>\n",
       "      <td>South Elvis</td>\n",
       "    </tr>\n",
       "    <tr>\n",
       "      <th>4</th>\n",
       "      <td>Chelsey Dietrich</td>\n",
       "      <td>Lucio_Hettinger@annie.ca</td>\n",
       "      <td>Roscoeview</td>\n",
       "    </tr>\n",
       "  </tbody>\n",
       "</table>\n",
       "</div>"
      ],
      "text/plain": [
       "               Name                      Email           City\n",
       "0     Leanne Graham          Sincere@april.biz    Gwenborough\n",
       "1      Ervin Howell          Shanna@melissa.tv    Wisokyburgh\n",
       "2  Clementine Bauch         Nathan@yesenia.net  McKenziehaven\n",
       "3  Patricia Lebsack  Julianne.OConner@kory.org    South Elvis\n",
       "4  Chelsey Dietrich   Lucio_Hettinger@annie.ca     Roscoeview"
      ]
     },
     "metadata": {},
     "output_type": "display_data"
    }
   ],
   "source": [
    "# Initial Prompt: \"Fetch the user data from JSONPlaceholder and create a pandas DataFrame with name, email, and address.city\"\n",
    "# Response:\n",
    "import requests\n",
    "import pandas as pd\n",
    "\n",
    "url = \"https://jsonplaceholder.typicode.com/users\"\n",
    "response = requests.get(url)\n",
    "users = response.json()\n",
    "\n",
    "data = []\n",
    "for user in users:\n",
    "    data.append({\n",
    "        \"Name\": user.get(\"name\"),\n",
    "        \"Email\": user.get(\"email\"),\n",
    "        \"City\": user.get(\"address\", {}).get(\"city\")\n",
    "    })\n",
    "\n",
    "df = pd.DataFrame(data)\n",
    "display(df.head())\n"
   ]
  },
  {
   "cell_type": "markdown",
   "id": "1ef2f858-a93e-45d6-8c0c-91977388be19",
   "metadata": {},
   "source": [
    "# 4.5"
   ]
  },
  {
   "cell_type": "code",
   "execution_count": 9,
   "id": "dd085ba7-9223-4172-9ae0-affd26520432",
   "metadata": {
    "tags": []
   },
   "outputs": [
    {
     "data": {
      "text/html": [
       "<div>\n",
       "<style scoped>\n",
       "    .dataframe tbody tr th:only-of-type {\n",
       "        vertical-align: middle;\n",
       "    }\n",
       "\n",
       "    .dataframe tbody tr th {\n",
       "        vertical-align: top;\n",
       "    }\n",
       "\n",
       "    .dataframe thead th {\n",
       "        text-align: right;\n",
       "    }\n",
       "</style>\n",
       "<table border=\"1\" class=\"dataframe\">\n",
       "  <thead>\n",
       "    <tr style=\"text-align: right;\">\n",
       "      <th></th>\n",
       "      <th>Name</th>\n",
       "      <th>Username</th>\n",
       "      <th>Email</th>\n",
       "      <th>Company</th>\n",
       "      <th>Catch Phrase</th>\n",
       "      <th>City</th>\n",
       "      <th>Geo (lat, lng)</th>\n",
       "    </tr>\n",
       "  </thead>\n",
       "  <tbody>\n",
       "    <tr>\n",
       "      <th>0</th>\n",
       "      <td>Leanne Graham</td>\n",
       "      <td>Bret</td>\n",
       "      <td>Sincere@april.biz</td>\n",
       "      <td>Romaguera-Crona</td>\n",
       "      <td>Multi-layered client-server neural-net</td>\n",
       "      <td>Gwenborough</td>\n",
       "      <td>(-37.3159, 81.1496)</td>\n",
       "    </tr>\n",
       "    <tr>\n",
       "      <th>1</th>\n",
       "      <td>Ervin Howell</td>\n",
       "      <td>Antonette</td>\n",
       "      <td>Shanna@melissa.tv</td>\n",
       "      <td>Deckow-Crist</td>\n",
       "      <td>Proactive didactic contingency</td>\n",
       "      <td>Wisokyburgh</td>\n",
       "      <td>(-43.9509, -34.4618)</td>\n",
       "    </tr>\n",
       "    <tr>\n",
       "      <th>2</th>\n",
       "      <td>Clementine Bauch</td>\n",
       "      <td>Samantha</td>\n",
       "      <td>Nathan@yesenia.net</td>\n",
       "      <td>Romaguera-Jacobson</td>\n",
       "      <td>Face to face bifurcated interface</td>\n",
       "      <td>McKenziehaven</td>\n",
       "      <td>(-68.6102, -47.0653)</td>\n",
       "    </tr>\n",
       "    <tr>\n",
       "      <th>3</th>\n",
       "      <td>Patricia Lebsack</td>\n",
       "      <td>Karianne</td>\n",
       "      <td>Julianne.OConner@kory.org</td>\n",
       "      <td>Robel-Corkery</td>\n",
       "      <td>Multi-tiered zero tolerance productivity</td>\n",
       "      <td>South Elvis</td>\n",
       "      <td>(29.4572, -164.2990)</td>\n",
       "    </tr>\n",
       "    <tr>\n",
       "      <th>4</th>\n",
       "      <td>Chelsey Dietrich</td>\n",
       "      <td>Kamren</td>\n",
       "      <td>Lucio_Hettinger@annie.ca</td>\n",
       "      <td>Keebler LLC</td>\n",
       "      <td>User-centric fault-tolerant solution</td>\n",
       "      <td>Roscoeview</td>\n",
       "      <td>(-31.8129, 62.5342)</td>\n",
       "    </tr>\n",
       "  </tbody>\n",
       "</table>\n",
       "</div>"
      ],
      "text/plain": [
       "               Name   Username                      Email             Company  \\\n",
       "0     Leanne Graham       Bret          Sincere@april.biz     Romaguera-Crona   \n",
       "1      Ervin Howell  Antonette          Shanna@melissa.tv        Deckow-Crist   \n",
       "2  Clementine Bauch   Samantha         Nathan@yesenia.net  Romaguera-Jacobson   \n",
       "3  Patricia Lebsack   Karianne  Julianne.OConner@kory.org       Robel-Corkery   \n",
       "4  Chelsey Dietrich     Kamren   Lucio_Hettinger@annie.ca         Keebler LLC   \n",
       "\n",
       "                               Catch Phrase           City  \\\n",
       "0    Multi-layered client-server neural-net    Gwenborough   \n",
       "1            Proactive didactic contingency    Wisokyburgh   \n",
       "2         Face to face bifurcated interface  McKenziehaven   \n",
       "3  Multi-tiered zero tolerance productivity    South Elvis   \n",
       "4      User-centric fault-tolerant solution     Roscoeview   \n",
       "\n",
       "         Geo (lat, lng)  \n",
       "0   (-37.3159, 81.1496)  \n",
       "1  (-43.9509, -34.4618)  \n",
       "2  (-68.6102, -47.0653)  \n",
       "3  (29.4572, -164.2990)  \n",
       "4   (-31.8129, 62.5342)  "
      ]
     },
     "metadata": {},
     "output_type": "display_data"
    }
   ],
   "source": [
    "# Prompt: \"Fetch the user data from JSONPlaceholder. Create a DataFrame with the following fields: name, username, email, company.name, company.catchPhrase, address.city, and the coordinates from address.geo combined into one string column called Geo (lat, lng).\"\n",
    "# Response:\n",
    "import requests\n",
    "import pandas as pd\n",
    "\n",
    "url = \"https://jsonplaceholder.typicode.com/users\"\n",
    "response = requests.get(url)\n",
    "users = response.json()\n",
    "\n",
    "data = []\n",
    "for user in users:\n",
    "    geo = user.get(\"address\", {}).get(\"geo\", {})\n",
    "    lat = geo.get(\"lat\")\n",
    "    lng = geo.get(\"lng\")\n",
    "    geo_string = f\"({lat}, {lng})\" if lat and lng else None\n",
    "\n",
    "    data.append({\n",
    "        \"Name\": user.get(\"name\"),\n",
    "        \"Username\": user.get(\"username\"),\n",
    "        \"Email\": user.get(\"email\"),\n",
    "        \"Company\": user.get(\"company\", {}).get(\"name\"),\n",
    "        \"Catch Phrase\": user.get(\"company\", {}).get(\"catchPhrase\"),\n",
    "        \"City\": user.get(\"address\", {}).get(\"city\"),\n",
    "        \"Geo (lat, lng)\": geo_string\n",
    "    })\n",
    "\n",
    "df = pd.DataFrame(data)\n",
    "display(df.head())\n"
   ]
  },
  {
   "cell_type": "markdown",
   "id": "6fb867e7-eca9-421c-97f3-8c92f8af63ca",
   "metadata": {},
   "source": [
    "# 4.6"
   ]
  },
  {
   "cell_type": "code",
   "execution_count": 10,
   "id": "0dd6eba2-6867-43d9-b758-d3210bcc9524",
   "metadata": {
    "tags": []
   },
   "outputs": [
    {
     "data": {
      "text/html": [
       "<div>\n",
       "<style scoped>\n",
       "    .dataframe tbody tr th:only-of-type {\n",
       "        vertical-align: middle;\n",
       "    }\n",
       "\n",
       "    .dataframe tbody tr th {\n",
       "        vertical-align: top;\n",
       "    }\n",
       "\n",
       "    .dataframe thead th {\n",
       "        text-align: right;\n",
       "    }\n",
       "</style>\n",
       "<table border=\"1\" class=\"dataframe\">\n",
       "  <thead>\n",
       "    <tr style=\"text-align: right;\">\n",
       "      <th></th>\n",
       "      <th>Name</th>\n",
       "      <th>Username</th>\n",
       "      <th>Email</th>\n",
       "      <th>Company</th>\n",
       "      <th>Catch Phrase</th>\n",
       "      <th>City</th>\n",
       "      <th>Geo (lat, lng)</th>\n",
       "    </tr>\n",
       "  </thead>\n",
       "  <tbody>\n",
       "    <tr>\n",
       "      <th>0</th>\n",
       "      <td>Leanne Graham</td>\n",
       "      <td>Bret</td>\n",
       "      <td>Sincere@april.biz</td>\n",
       "      <td>Romaguera-Crona</td>\n",
       "      <td>Multi-layered client-server neural-net</td>\n",
       "      <td>Gwenborough</td>\n",
       "      <td>(-37.3159, 81.1496)</td>\n",
       "    </tr>\n",
       "    <tr>\n",
       "      <th>1</th>\n",
       "      <td>Ervin Howell</td>\n",
       "      <td>Antonette</td>\n",
       "      <td>Shanna@melissa.tv</td>\n",
       "      <td>Deckow-Crist</td>\n",
       "      <td>Proactive didactic contingency</td>\n",
       "      <td>Wisokyburgh</td>\n",
       "      <td>(-43.9509, -34.4618)</td>\n",
       "    </tr>\n",
       "    <tr>\n",
       "      <th>2</th>\n",
       "      <td>Clementine Bauch</td>\n",
       "      <td>Samantha</td>\n",
       "      <td>Nathan@yesenia.net</td>\n",
       "      <td>Romaguera-Jacobson</td>\n",
       "      <td>Face to face bifurcated interface</td>\n",
       "      <td>McKenziehaven</td>\n",
       "      <td>(-68.6102, -47.0653)</td>\n",
       "    </tr>\n",
       "    <tr>\n",
       "      <th>3</th>\n",
       "      <td>Patricia Lebsack</td>\n",
       "      <td>Karianne</td>\n",
       "      <td>Julianne.OConner@kory.org</td>\n",
       "      <td>Robel-Corkery</td>\n",
       "      <td>Multi-tiered zero tolerance productivity</td>\n",
       "      <td>South Elvis</td>\n",
       "      <td>(29.4572, -164.2990)</td>\n",
       "    </tr>\n",
       "    <tr>\n",
       "      <th>4</th>\n",
       "      <td>Chelsey Dietrich</td>\n",
       "      <td>Kamren</td>\n",
       "      <td>Lucio_Hettinger@annie.ca</td>\n",
       "      <td>Keebler LLC</td>\n",
       "      <td>User-centric fault-tolerant solution</td>\n",
       "      <td>Roscoeview</td>\n",
       "      <td>(-31.8129, 62.5342)</td>\n",
       "    </tr>\n",
       "  </tbody>\n",
       "</table>\n",
       "</div>"
      ],
      "text/plain": [
       "               Name   Username                      Email             Company  \\\n",
       "0     Leanne Graham       Bret          Sincere@april.biz     Romaguera-Crona   \n",
       "1      Ervin Howell  Antonette          Shanna@melissa.tv        Deckow-Crist   \n",
       "2  Clementine Bauch   Samantha         Nathan@yesenia.net  Romaguera-Jacobson   \n",
       "3  Patricia Lebsack   Karianne  Julianne.OConner@kory.org       Robel-Corkery   \n",
       "4  Chelsey Dietrich     Kamren   Lucio_Hettinger@annie.ca         Keebler LLC   \n",
       "\n",
       "                               Catch Phrase           City  \\\n",
       "0    Multi-layered client-server neural-net    Gwenborough   \n",
       "1            Proactive didactic contingency    Wisokyburgh   \n",
       "2         Face to face bifurcated interface  McKenziehaven   \n",
       "3  Multi-tiered zero tolerance productivity    South Elvis   \n",
       "4      User-centric fault-tolerant solution     Roscoeview   \n",
       "\n",
       "         Geo (lat, lng)  \n",
       "0   (-37.3159, 81.1496)  \n",
       "1  (-43.9509, -34.4618)  \n",
       "2  (-68.6102, -47.0653)  \n",
       "3  (29.4572, -164.2990)  \n",
       "4   (-31.8129, 62.5342)  "
      ]
     },
     "metadata": {},
     "output_type": "display_data"
    }
   ],
   "source": [
    "# Prompt: \"Fetch the user data from JSONPlaceholder. Create a DataFrame with the following fields: name, username, email, company.name, company.catchPhrase, address.city, and the coordinates from address.geo combined into one string column called Geo (lat, lng).\"\n",
    "# Response:\n",
    "import requests\n",
    "import pandas as pd\n",
    "\n",
    "url = \"https://jsonplaceholder.typicode.com/users\"\n",
    "response = requests.get(url)\n",
    "users = response.json()\n",
    "\n",
    "data = []\n",
    "for user in users:\n",
    "    geo = user.get(\"address\", {}).get(\"geo\", {})\n",
    "    lat = geo.get(\"lat\")\n",
    "    lng = geo.get(\"lng\")\n",
    "    geo_string = f\"({lat}, {lng})\" if lat and lng else None\n",
    "\n",
    "    data.append({\n",
    "        \"Name\": user.get(\"name\"),\n",
    "        \"Username\": user.get(\"username\"),\n",
    "        \"Email\": user.get(\"email\"),\n",
    "        \"Company\": user.get(\"company\", {}).get(\"name\"),\n",
    "        \"Catch Phrase\": user.get(\"company\", {}).get(\"catchPhrase\"),\n",
    "        \"City\": user.get(\"address\", {}).get(\"city\"),\n",
    "        \"Geo (lat, lng)\": geo_string\n",
    "    })\n",
    "\n",
    "df = pd.DataFrame(data)\n",
    "display(df.head())\n"
   ]
  },
  {
   "cell_type": "code",
   "execution_count": 11,
   "id": "fc7174e8-3c32-497d-b40d-a8cc523a18a6",
   "metadata": {
    "tags": []
   },
   "outputs": [
    {
     "name": "stdout",
     "output_type": "stream",
     "text": [
      "['(212) 555-7890', '646-123-4567', '917.555.1234']\n"
     ]
    }
   ],
   "source": [
    "# Prompt: \"Write a Python script that extracts U.S. phone numbers from this block of text. ‘Call me at (212) 555-7890. My backup number is 646-123-4567. You can also reach me at 917.555.1234.’\"\n",
    "# Response:\n",
    "import re\n",
    "\n",
    "text = \"\"\"\n",
    "Call me at (212) 555-7890. My backup number is 646-123-4567. You can also reach me at 917.555.1234.\n",
    "\"\"\"\n",
    "\n",
    "# Regex to match U.S. phone numbers\n",
    "phone_numbers = re.findall(r'\\(?\\d{3}\\)?[-.\\s]?\\d{3}[-.\\s]?\\d{4}', text)\n",
    "print(phone_numbers)\n"
   ]
  },
  {
   "cell_type": "code",
   "execution_count": 12,
   "id": "ab0efab0-1638-4392-8461-b01e58b22902",
   "metadata": {
    "tags": []
   },
   "outputs": [
    {
     "name": "stdout",
     "output_type": "stream",
     "text": [
      "['+1-212-555-7890', '+1-646-123-4567', '+1-917-555-1234']\n"
     ]
    }
   ],
   "source": [
    "# Prompt: \"Modify the script to normalize the extracted phone numbers to the format +1-XXX-XXX-XXXX.\"\n",
    "# Response:\n",
    "import re\n",
    "\n",
    "text = \"\"\"\n",
    "Call me at (212) 555-7890. My backup number is 646-123-4567. You can also reach me at 917.555.1234.\n",
    "\"\"\"\n",
    "\n",
    "# Extract raw phone numbers\n",
    "raw_numbers = re.findall(r'\\(?\\d{3}\\)?[-.\\s]?\\d{3}[-.\\s]?\\d{4}', text)\n",
    "\n",
    "# Normalize each number to +1-XXX-XXX-XXXX\n",
    "def normalize(number):\n",
    "    digits = re.sub(r'\\D', '', number)  # Remove non-digit characters\n",
    "    if len(digits) == 10:\n",
    "        return f\"+1-{digits[0:3]}-{digits[3:6]}-{digits[6:]}\"\n",
    "    return number\n",
    "\n",
    "normalized_numbers = [normalize(num) for num in raw_numbers]\n",
    "print(normalized_numbers)\n"
   ]
  },
  {
   "cell_type": "markdown",
   "id": "406a57d6-6ae0-4ee8-b231-06f8c7add1fc",
   "metadata": {},
   "source": [
    "# 4.7"
   ]
  },
  {
   "cell_type": "code",
   "execution_count": 13,
   "id": "0505d5cd-e23a-4a93-b6b4-7bf601f0a7e1",
   "metadata": {
    "tags": []
   },
   "outputs": [
    {
     "data": {
      "text/html": [
       "<div>\n",
       "<style scoped>\n",
       "    .dataframe tbody tr th:only-of-type {\n",
       "        vertical-align: middle;\n",
       "    }\n",
       "\n",
       "    .dataframe tbody tr th {\n",
       "        vertical-align: top;\n",
       "    }\n",
       "\n",
       "    .dataframe thead th {\n",
       "        text-align: right;\n",
       "    }\n",
       "</style>\n",
       "<table border=\"1\" class=\"dataframe\">\n",
       "  <thead>\n",
       "    <tr style=\"text-align: right;\">\n",
       "      <th></th>\n",
       "      <th>Area Code</th>\n",
       "      <th>First 3</th>\n",
       "      <th>Last 4</th>\n",
       "    </tr>\n",
       "  </thead>\n",
       "  <tbody>\n",
       "    <tr>\n",
       "      <th>0</th>\n",
       "      <td>212</td>\n",
       "      <td>555</td>\n",
       "      <td>7890</td>\n",
       "    </tr>\n",
       "    <tr>\n",
       "      <th>1</th>\n",
       "      <td>646</td>\n",
       "      <td>123</td>\n",
       "      <td>4567</td>\n",
       "    </tr>\n",
       "    <tr>\n",
       "      <th>2</th>\n",
       "      <td>917</td>\n",
       "      <td>555</td>\n",
       "      <td>1234</td>\n",
       "    </tr>\n",
       "  </tbody>\n",
       "</table>\n",
       "</div>"
      ],
      "text/plain": [
       "  Area Code First 3 Last 4\n",
       "0       212     555   7890\n",
       "1       646     123   4567\n",
       "2       917     555   1234"
      ]
     },
     "metadata": {},
     "output_type": "display_data"
    }
   ],
   "source": [
    "# Prompt: \"Write a Python script that extracts U.S. phone numbers from text and splits each into three fields: area_code, first_3, and last_4. Return the result as a pandas DataFrame.\"\n",
    "# Response:\n",
    "import re\n",
    "import pandas as pd\n",
    "\n",
    "text = \"\"\"\n",
    "Call me at (212) 555-7890. My backup number is 646-123-4567. You can also reach me at 917.555.1234.\n",
    "\"\"\"\n",
    "\n",
    "# Regex with capture groups for structured output\n",
    "matches = re.findall(r'\\(?(\\d{3})\\)?[-.\\s]?(\\d{3})[-.\\s]?(\\d{4})', text)\n",
    "\n",
    "# Convert to DataFrame\n",
    "df = pd.DataFrame(matches, columns=[\"Area Code\", \"First 3\", \"Last 4\"])\n",
    "display(df)\n"
   ]
  }
 ],
 "metadata": {
  "kernelspec": {
   "display_name": "Python 3 (ipykernel)",
   "language": "python",
   "name": "python3"
  },
  "language_info": {
   "codemirror_mode": {
    "name": "ipython",
    "version": 3
   },
   "file_extension": ".py",
   "mimetype": "text/x-python",
   "name": "python",
   "nbconvert_exporter": "python",
   "pygments_lexer": "ipython3",
   "version": "3.11.5"
  }
 },
 "nbformat": 4,
 "nbformat_minor": 5
}
